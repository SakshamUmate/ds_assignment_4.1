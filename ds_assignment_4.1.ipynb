{
 "cells": [
  {
   "cell_type": "markdown",
   "id": "f49cdba1-9541-4069-922f-fe6b534372c3",
   "metadata": {},
   "source": [
    "Q1"
   ]
  },
  {
   "cell_type": "code",
   "execution_count": 8,
   "id": "956aee89-fc80-4146-b92f-fb356790824d",
   "metadata": {},
   "outputs": [
    {
     "name": "stdin",
     "output_type": "stream",
     "text": [
      " 99\n"
     ]
    },
    {
     "name": "stdout",
     "output_type": "stream",
     "text": [
      "Your grade is:A\n"
     ]
    }
   ],
   "source": [
    "#ans:\n",
    "grade=int(input())\n",
    "if grade > 90:\n",
    "    print(\"Your grade is:A\")\n",
    "if grade<=90 and grade>80:\n",
    "    print(\"Your grade is:B\")\n",
    "if grade<=80 and grade>=60:\n",
    "    print(\"Your grade is:C\")\n",
    "elif grade<60:\n",
    "    print(\"Your grade is:D\")\n",
    "    "
   ]
  },
  {
   "cell_type": "markdown",
   "id": "38586870-5215-4047-84d8-ed2a5aa2ce5b",
   "metadata": {},
   "source": [
    "Q2"
   ]
  },
  {
   "cell_type": "code",
   "execution_count": 10,
   "id": "53118cb7-460d-41a0-8b35-6b780f1c16e8",
   "metadata": {},
   "outputs": [
    {
     "name": "stdin",
     "output_type": "stream",
     "text": [
      " 25000\n"
     ]
    },
    {
     "name": "stdout",
     "output_type": "stream",
     "text": [
      "Road tax to pay:1250.0\n"
     ]
    }
   ],
   "source": [
    "#ans:\n",
    "cp_bike=int(input())\n",
    "if cp_bike <=50000:\n",
    "    print(f'Road tax to pay:{cp_bike*0.05}')\n",
    "if cp_bike >50000 and cp_bike<=100000:\n",
    "    print(f'Road tax to pay:{cp_bike*0.1}')\n",
    "elif cp_bike >100000:\n",
    "    print(f'Road tax to pay:{cp_bike*0.15}')\n"
   ]
  },
  {
   "cell_type": "markdown",
   "id": "e32f15ba-512f-4311-a8a7-c14e97768254",
   "metadata": {},
   "source": [
    "Q3"
   ]
  },
  {
   "cell_type": "code",
   "execution_count": 11,
   "id": "d5f7b466-010c-416f-81fa-3ee6a12e829c",
   "metadata": {},
   "outputs": [
    {
     "name": "stdin",
     "output_type": "stream",
     "text": [
      " Delhi\n"
     ]
    },
    {
     "name": "stdout",
     "output_type": "stream",
     "text": [
      "Monument of Delhi:Red Fort\n"
     ]
    }
   ],
   "source": [
    "#ans:\n",
    "a=input()\n",
    "if a==\"Delhi\":\n",
    "    print(\"Monument of Delhi:Red Fort\")\n",
    "if a==\"Agra\":\n",
    "    print(\"Monument of Agra:Taj Mahal\")\n",
    "elif a==\"Jaipur\":\n",
    "    print('Monument of Jaipur:Jal Mahal')"
   ]
  },
  {
   "cell_type": "markdown",
   "id": "e240de6a-ff2f-4bbe-8818-e319c832a170",
   "metadata": {},
   "source": [
    "Q4"
   ]
  },
  {
   "cell_type": "code",
   "execution_count": 5,
   "id": "e09f4bb7-1188-41e1-ba26-844457b04a62",
   "metadata": {},
   "outputs": [
    {
     "name": "stdin",
     "output_type": "stream",
     "text": [
      "Enter a number:  99\n"
     ]
    },
    {
     "name": "stdout",
     "output_type": "stream",
     "text": [
      "The given number can be divided by 3 = 3 times before it becomes less than or equal to 10.\n"
     ]
    }
   ],
   "source": [
    "number = int(input(\"Enter a number: \"))\n",
    "count = 0\n",
    "\n",
    "while number > 10:\n",
    "    number /= 3\n",
    "    count += 1\n",
    "\n",
    "print(f\"The given number can be divided by 3 = {count} times before it becomes less than or equal to 10.\")\n"
   ]
  },
  {
   "cell_type": "markdown",
   "id": "930e764e-e5d2-4ed9-9ab1-58e5797a2dc8",
   "metadata": {},
   "source": [
    "Q5why and when to use while loop in python give a detailed description  wit"
   ]
  },
  {
   "cell_type": "markdown",
   "id": "f3e298d6-b2e3-496e-bd7f-d807a1056a8d",
   "metadata": {},
   "source": [
    "Ans:A while loop in Python is used to repeatedly execute a block of code as long as a specified condition is true. The primary use of a while loop is when you want to perform a task or a set of tasks until a certain condition is met. The loop continues iterating as long as the condition remains true."
   ]
  },
  {
   "cell_type": "code",
   "execution_count": 1,
   "id": "b2f297dd-9e38-459c-84e1-75dbc7087962",
   "metadata": {},
   "outputs": [
    {
     "name": "stdout",
     "output_type": "stream",
     "text": [
      "1\n",
      "2\n",
      "3\n",
      "4\n",
      "5\n"
     ]
    }
   ],
   "source": [
    "count = 1\n",
    "\n",
    "while count <= 5:\n",
    "    print(count)\n",
    "    count += 1\n"
   ]
  },
  {
   "cell_type": "markdown",
   "id": "c1cd8513-c7eb-45e6-b219-2603a3dd06f2",
   "metadata": {},
   "source": [
    "Q6 use nested while loop to print 3 different pattern \n"
   ]
  },
  {
   "cell_type": "code",
   "execution_count": 6,
   "id": "d2119ee5-7342-4274-a758-5698a15e236d",
   "metadata": {},
   "outputs": [
    {
     "name": "stdout",
     "output_type": "stream",
     "text": [
      "* * * * * \n",
      "* * * * * \n",
      "* * * * * \n",
      "* * * * * \n",
      "* * * * * \n"
     ]
    }
   ],
   "source": [
    "# Pattern 1: Square\n",
    "rows = 5\n",
    "i = 1\n",
    "\n",
    "while i <= rows:\n",
    "    j = 1\n",
    "    while j <= rows:\n",
    "        print(\"* \", end=\"\")\n",
    "        j += 1\n",
    "    print()\n",
    "    i += 1\n"
   ]
  },
  {
   "cell_type": "code",
   "execution_count": 7,
   "id": "39e98a19-6165-4543-90e5-b59812c11382",
   "metadata": {},
   "outputs": [
    {
     "name": "stdout",
     "output_type": "stream",
     "text": [
      "* \n",
      "* * \n",
      "* * * \n",
      "* * * * \n",
      "* * * * * \n"
     ]
    }
   ],
   "source": [
    "#Pattern 2: Right Triangle\n",
    "rows = 5\n",
    "i = 1\n",
    "\n",
    "while i <= rows:\n",
    "    j = 1\n",
    "    while j <= i:\n",
    "        print(\"* \", end=\"\")\n",
    "        j += 1\n",
    "    print()\n",
    "    i += 1\n"
   ]
  },
  {
   "cell_type": "code",
   "execution_count": 8,
   "id": "2226375e-5898-43c4-8857-89c0bff88d48",
   "metadata": {},
   "outputs": [
    {
     "name": "stdout",
     "output_type": "stream",
     "text": [
      "        * \n",
      "      * * \n",
      "    * * * \n",
      "  * * * * \n",
      "* * * * * \n"
     ]
    }
   ],
   "source": [
    "\n",
    "# Pattern 3: Pyramid\n",
    "rows = 5\n",
    "i = 1\n",
    "\n",
    "while i <= rows:\n",
    "    spaces = rows - i\n",
    "    while spaces > 0:\n",
    "        print(\"  \", end=\"\")\n",
    "        spaces -= 1\n",
    "\n",
    "    j = 1\n",
    "    while j <= i:\n",
    "        print(\"* \", end=\"\")\n",
    "        j += 1\n",
    "    print()\n",
    "    i += 1\n"
   ]
  },
  {
   "cell_type": "markdown",
   "id": "4da64444-2196-4bbb-852e-6bd49bb0c6e3",
   "metadata": {},
   "source": [
    "Q7 reverse a while loop to display numbers from 10 to 1\n"
   ]
  },
  {
   "cell_type": "code",
   "execution_count": 9,
   "id": "49c9b795-0186-4637-bb1e-563a8c5df4ac",
   "metadata": {},
   "outputs": [
    {
     "name": "stdout",
     "output_type": "stream",
     "text": [
      "10\n",
      "9\n",
      "8\n",
      "7\n",
      "6\n",
      "5\n",
      "4\n",
      "3\n",
      "2\n",
      "1\n"
     ]
    }
   ],
   "source": [
    "# Reversed While Loop: Display numbers from 10 to 1\n",
    "num = 10\n",
    "\n",
    "while num >= 1:\n",
    "    print(num)\n",
    "    num -= 1"
   ]
  },
  {
   "cell_type": "code",
   "execution_count": 10,
   "id": "7331fa38-fa7d-4db8-a742-faf72af15fe7",
   "metadata": {},
   "outputs": [],
   "source": [
    "# Q8 question is repeated its same as Q7"
   ]
  },
  {
   "cell_type": "code",
   "execution_count": null,
   "id": "e4a65304-c89d-4aa3-a96a-a6908c2894c6",
   "metadata": {},
   "outputs": [],
   "source": []
  }
 ],
 "metadata": {
  "kernelspec": {
   "display_name": "Python 3 (ipykernel)",
   "language": "python",
   "name": "python3"
  },
  "language_info": {
   "codemirror_mode": {
    "name": "ipython",
    "version": 3
   },
   "file_extension": ".py",
   "mimetype": "text/x-python",
   "name": "python",
   "nbconvert_exporter": "python",
   "pygments_lexer": "ipython3",
   "version": "3.11.4"
  }
 },
 "nbformat": 4,
 "nbformat_minor": 5
}
